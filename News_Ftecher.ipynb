{
 "cells": [
  {
   "cell_type": "code",
   "execution_count": 14,
   "id": "ac2ef40a",
   "metadata": {},
   "outputs": [],
   "source": [
    "import requests\n",
    "\n",
    "# Replace with your API key\n",
    "API_KEY = '777641a7ae7f436f955f6cd0400823f1'\n",
    "\n",
    "# Base URL for top headlines\n",
    "URL = 'https://newsapi.org/v2/top-headlines?'\n"
   ]
  },
  {
   "cell_type": "code",
   "execution_count": 15,
   "id": "8c643958",
   "metadata": {},
   "outputs": [],
   "source": [
    "def get_articles_by_category(category):\n",
    "    query_parameters = {\n",
    "        \"category\": category,\n",
    "        \"sortBy\": \"top\",\n",
    "        \"country\": \"gb\",\n",
    "        \"apiKey\": API_KEY\n",
    "    }\n",
    "    return _get_articles(query_parameters)\n"
   ]
  },
  {
   "cell_type": "code",
   "execution_count": 16,
   "id": "6c8934c7",
   "metadata": {},
   "outputs": [],
   "source": [
    "def get_articles_by_query(query):\n",
    "    query_parameters = {\n",
    "        \"q\": query,\n",
    "        \"sortBy\": \"top\",\n",
    "        \"country\": \"gb\",\n",
    "        \"apiKey\": API_KEY\n",
    "    }\n",
    "    return _get_articles(query_parameters)\n"
   ]
  },
  {
   "cell_type": "code",
   "execution_count": 17,
   "id": "9baf3f1c",
   "metadata": {},
   "outputs": [],
   "source": [
    "def _get_articles(params):\n",
    "    response = requests.get(URL, params=params)\n",
    "\n",
    "    # Check if the response is successful\n",
    "    if response.status_code != 200:\n",
    "        print(f\"Error: Unable to fetch articles. Status Code: {response.status_code}\")\n",
    "        return []\n",
    "\n",
    "    articles = response.json().get('articles', [])\n",
    "    results = []\n",
    "        \n",
    "    for article in articles:\n",
    "        results.append({\"title\": article[\"title\"], \"url\": article[\"url\"]})\n",
    "\n",
    "    # Print the articles\n",
    "    for result in results:\n",
    "        print(result['title'])\n",
    "        print(result['url'])\n",
    "        print('')\n",
    "        \n",
    "    return results\n"
   ]
  },
  {
   "cell_type": "code",
   "execution_count": 18,
   "id": "f3fdc9c7",
   "metadata": {},
   "outputs": [],
   "source": [
    "def get_sources_by_category(category):\n",
    "    url = 'https://newsapi.org/v2/top-headlines/sources'\n",
    "    query_parameters = {\n",
    "        \"category\": category,\n",
    "        \"language\": \"en\",\n",
    "        \"apiKey\": API_KEY\n",
    "    }\n",
    "\n",
    "    response = requests.get(url, params=query_parameters)\n",
    "\n",
    "    if response.status_code != 200:\n",
    "        print(f\"Error: Unable to fetch sources. Status Code: {response.status_code}\")\n",
    "        return []\n",
    "\n",
    "    sources = response.json().get('sources', [])\n",
    "    \n",
    "    for source in sources:\n",
    "        print(source['name'])\n",
    "        print(source['url'])\n"
   ]
  },
  {
   "cell_type": "code",
   "execution_count": 21,
   "id": "9cc1dca3",
   "metadata": {},
   "outputs": [
    {
     "name": "stdout",
     "output_type": "stream",
     "text": [
      "Enter a category (e.g., technology, sports, business): technology\n",
      "\n",
      "Fetching news for category: technology\n",
      "\n"
     ]
    },
    {
     "data": {
      "text/plain": [
       "[]"
      ]
     },
     "execution_count": 21,
     "metadata": {},
     "output_type": "execute_result"
    }
   ],
   "source": [
    "# Example: Fetch articles by category\n",
    "category = input(\"Enter a category (e.g., technology, sports, business): \").strip().lower()\n",
    "print(f\"\\nFetching news for category: {category}\\n\")\n",
    "get_articles_by_category(category)\n"
   ]
  },
  {
   "cell_type": "code",
   "execution_count": 22,
   "id": "cedd9b51",
   "metadata": {},
   "outputs": [
    {
     "name": "stdout",
     "output_type": "stream",
     "text": [
      "Title: Breaking: SEC Now Has New Acting Chairman - U.Today\n",
      "URL: https://u.today/breaking-sec-now-has-new-acting-chairman\n",
      "\n",
      "Title: Crypto Investor Arthur Hayes Doubts Trump Will Get Around to Doing a Bitcoin Reserve - CoinDesk\n",
      "URL: https://www.coindesk.com/business/2025/01/20/crypto-investor-arthur-hayes-doubts-trump-will-get-around-to-doing-a-bitcoin-reserve\n",
      "\n",
      "Title: Car of missing Domino’s delivery driver found in Superior, Wisconsin, police say - KSTP\n",
      "URL: https://kstp.com/kstp-news/top-news/car-of-missing-dominos-delivery-driver-found-in-superior-wisconsin-police-say/\n",
      "\n",
      "Title: Democratic lawmaker says TRUMP coin represents the ‘worst of crypto’ - Cointelegraph\n",
      "URL: https://cointelegraph.com/news/maxine-waters-donald-trump-memecoin-worst-crypto\n",
      "\n",
      "Title: Stock Futures Rise, Dollar Slides as Trump Takes Office - Barron's\n",
      "URL: https://www.barrons.com/articles/stock-market-today-16a27d85\n",
      "\n",
      "Title: Dogecoin defies market shake-up, but can it prevail against the TRUMP hype? - AMBCrypto News\n",
      "URL: https://ambcrypto.com/dogecoin-defies-market-shake-up-but-can-it-prevail-against-the-trump-hype/\n",
      "\n",
      "Title: Bitcoin hits 109K – Can BTC rise further? THIS data suggests… - AMBCrypto News\n",
      "URL: https://ambcrypto.com/bitcoin-hits-109k-can-btc-rise-further-this-data-suggests/\n",
      "\n",
      "Title: Lauren Sanchez Spices Up the Inauguration with a Visible Lace Bustier - The Cut\n",
      "URL: http://www.thecut.com/article/lauren-sanchez-jeff-bezos-inauguration-lace-bustier.html\n",
      "\n",
      "Title: Costco workers ready to strike on Feb. 1, Teamsters union says - CBS News\n",
      "URL: https://www.cbsnews.com/news/costco-workers-strike/\n",
      "\n",
      "Title: ‘More bark than bite’: Dow futures rise, dollar dives on report of no Day 1 tariffs - MarketWatch\n",
      "URL: https://www.marketwatch.com/story/dow-futures-surge-and-dollar-slides-as-trump-may-not-levy-tariffs-on-day-1-f186c013\n",
      "\n",
      "Title: Elon Musk Finally Admits To ‘Path Of Exile 2’ Account Boosting In DMs - Forbes\n",
      "URL: https://www.forbes.com/sites/paultassi/2025/01/20/elon-musk-finally-admits-to-path-of-exile-2-account-boosting-in-dms/\n",
      "\n",
      "Title: The broligarchs have a vision for the new Trump term. It’s darker than you think. - Vox.com\n",
      "URL: https://www.vox.com/future-perfect/395646/trump-inauguration-broligarchs-musk-zuckerberg-bezos-thiel\n",
      "\n",
      "Title: Flaws in California Insurance Plan to Test LA Homeowners - Newsmax\n",
      "URL: https://www.newsmax.com/finance/streettalk/fair-plan-california-insurance/2025/01/19/id/1195695/\n",
      "\n",
      "Title: Powerball jackpot won in Beaverton, winner can claim $328.5 million prize - KCBY.com 11\n",
      "URL: https://katu.com/news/local/powerball-jackpot-won-in-beaverton-winner-can-claim-3285-million-prize\n",
      "\n",
      "Title: Global study shows majority of 18-34 year olds support using violence and disinformation to drive change - Fortune\n",
      "URL: https://fortune.com/2025/01/19/edelman-trust-barometer-violence-disinformation-social-trends/\n",
      "\n"
     ]
    }
   ],
   "source": [
    "import requests\n",
    "\n",
    "# URL de l'API\n",
    "url = \"https://newsapi.org/v2/top-headlines?country=us&category=business&apiKey=777641a7ae7f436f955f6cd0400823f1\"\n",
    "\n",
    "# Envoyer la requête GET\n",
    "response = requests.get(url)\n",
    "\n",
    "# Afficher la réponse\n",
    "if response.status_code == 200:  # Si la requête a réussi\n",
    "    articles = response.json().get('articles', [])\n",
    "    for article in articles:\n",
    "        print(f\"Title: {article['title']}\")\n",
    "        print(f\"URL: {article['url']}\\n\")\n",
    "else:\n",
    "    print(f\"Error: {response.status_code}\")\n",
    "    print(response.json())\n"
   ]
  },
  {
   "cell_type": "code",
   "execution_count": null,
   "id": "16fb4115",
   "metadata": {},
   "outputs": [],
   "source": []
  }
 ],
 "metadata": {
  "kernelspec": {
   "display_name": "Python 3 (ipykernel)",
   "language": "python",
   "name": "python3"
  },
  "language_info": {
   "codemirror_mode": {
    "name": "ipython",
    "version": 3
   },
   "file_extension": ".py",
   "mimetype": "text/x-python",
   "name": "python",
   "nbconvert_exporter": "python",
   "pygments_lexer": "ipython3",
   "version": "3.11.5"
  }
 },
 "nbformat": 4,
 "nbformat_minor": 5
}
